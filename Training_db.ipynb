{
  "nbformat": 4,
  "nbformat_minor": 0,
  "metadata": {
    "colab": {
      "name": "insight_db.ipynb",
      "provenance": [],
      "authorship_tag": "ABX9TyOA0L83RHKtgDQ6B7P78a3I",
      "include_colab_link": true
    },
    "kernelspec": {
      "name": "python3",
      "display_name": "Python 3"
    },
    "language_info": {
      "name": "python"
    }
  },
  "cells": [
    {
      "cell_type": "markdown",
      "metadata": {
        "id": "view-in-github",
        "colab_type": "text"
      },
      "source": [
        "<a href=\"https://colab.research.google.com/github/DBagrecha/Instaminutes/blob/main/Training_db.ipynb\" target=\"_parent\"><img src=\"https://colab.research.google.com/assets/colab-badge.svg\" alt=\"Open In Colab\"/></a>"
      ]
    },
    {
      "cell_type": "code",
      "source": [
        "from google.colab import drive\n",
        "drive.mount('/content/drive')"
      ],
      "metadata": {
        "colab": {
          "base_uri": "https://localhost:8080/"
        },
        "id": "u1w-8BatKe_o",
        "outputId": "946fdf73-d347-4107-853f-80c9d75e30a0"
      },
      "execution_count": 1,
      "outputs": [
        {
          "output_type": "stream",
          "name": "stdout",
          "text": [
            "Mounted at /content/drive\n"
          ]
        }
      ]
    },
    {
      "cell_type": "code",
      "source": [
        "path = '/content/drive/MyDrive/insights/raw.txt'"
      ],
      "metadata": {
        "id": "HbOOypECN49F"
      },
      "execution_count": 2,
      "outputs": []
    },
    {
      "cell_type": "code",
      "source": [
        "doc = open(path,'r').read()"
      ],
      "metadata": {
        "id": "15toL2EoNVQ_"
      },
      "execution_count": 3,
      "outputs": []
    },
    {
      "cell_type": "code",
      "source": [
        "from nltk.tag import pos_tag\n",
        "from nltk.tokenize import sent_tokenize"
      ],
      "metadata": {
        "id": "CriRdb_VODlt"
      },
      "execution_count": 4,
      "outputs": []
    },
    {
      "cell_type": "code",
      "source": [
        "import nltk\n",
        "nltk.download('averaged_perceptron_tagger')\n",
        "nltk.download('punkt')"
      ],
      "metadata": {
        "colab": {
          "base_uri": "https://localhost:8080/"
        },
        "id": "izHUV-UTBe5P",
        "outputId": "0e06961f-a324-4f4f-f0b6-351e4388f7af"
      },
      "execution_count": 6,
      "outputs": [
        {
          "output_type": "stream",
          "name": "stdout",
          "text": [
            "[nltk_data] Downloading package averaged_perceptron_tagger to\n",
            "[nltk_data]     /root/nltk_data...\n",
            "[nltk_data]   Unzipping taggers/averaged_perceptron_tagger.zip.\n"
          ]
        },
        {
          "output_type": "execute_result",
          "data": {
            "text/plain": [
              "True"
            ]
          },
          "metadata": {},
          "execution_count": 6
        }
      ]
    },
    {
      "cell_type": "code",
      "source": [
        "data={'Sentence':'Category'}\n",
        "for i in doc.split('\\n'):\n",
        "  for j in sent_tokenize(i):\n",
        "    j=j.strip()\n",
        "    sent_arr=pos_tag(j.split())\n",
        "    if(len(sent_arr)>3):\n",
        "      data[j]=0\n",
        "      for k in range(len(sent_arr)):\n",
        "        if(sent_arr[k][1]=='NNP' or sent_arr[k][1]=='CD'):\n",
        "          data[j]=1\n",
        "          break"
      ],
      "metadata": {
        "id": "4sICuUd8Oy2l"
      },
      "execution_count": 7,
      "outputs": []
    },
    {
      "cell_type": "code",
      "source": [
        "import csv\n",
        "with open('/content/drive/MyDrive/insights/train.csv', 'w') as f:\n",
        "    for key in data.keys():\n",
        "        f.write(\"%s | %s\\n\"%(key,data[key]))"
      ],
      "metadata": {
        "id": "IAPvvqS6k1I6"
      },
      "execution_count": 9,
      "outputs": []
    },
    {
      "cell_type": "code",
      "source": [
        ""
      ],
      "metadata": {
        "id": "-_Ey-RNcnro-"
      },
      "execution_count": 10,
      "outputs": []
    },
    {
      "cell_type": "code",
      "source": [
        ""
      ],
      "metadata": {
        "id": "HDxEpP7EBOpe"
      },
      "execution_count": null,
      "outputs": []
    }
  ]
}