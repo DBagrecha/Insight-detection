{
  "nbformat": 4,
  "nbformat_minor": 0,
  "metadata": {
    "colab": {
      "name": "Insight_detector.ipynb",
      "provenance": [],
      "collapsed_sections": [],
      "authorship_tag": "ABX9TyPOBd4tdDP2RB9HgA94qXBc",
      "include_colab_link": true
    },
    "kernelspec": {
      "name": "python3",
      "display_name": "Python 3"
    },
    "language_info": {
      "name": "python"
    }
  },
  "cells": [
    {
      "cell_type": "markdown",
      "metadata": {
        "id": "view-in-github",
        "colab_type": "text"
      },
      "source": [
        "<a href=\"https://colab.research.google.com/github/DBagrecha/Instaminutes/blob/main/Insight_detector.ipynb\" target=\"_parent\"><img src=\"https://colab.research.google.com/assets/colab-badge.svg\" alt=\"Open In Colab\"/></a>"
      ]
    },
    {
      "cell_type": "code",
      "execution_count": 1,
      "metadata": {
        "id": "V2bpJ-XlpkRp"
      },
      "outputs": [],
      "source": [
        "from google.colab import drive\n",
        "import numpy as np\n",
        "import pandas as pd\n",
        "import keras\n",
        "from keras.preprocessing import sequence\n",
        "from keras.models import Sequential\n",
        "from keras.layers import Dense, Embedding, GRU, Dropout"
      ]
    },
    {
      "cell_type": "code",
      "source": [
        "drive.mount('/content/drive')"
      ],
      "metadata": {
        "id": "5icuxy8Lqpaq",
        "colab": {
          "base_uri": "https://localhost:8080/"
        },
        "outputId": "cb0b5b03-0412-478a-80a3-461636c71a49"
      },
      "execution_count": 2,
      "outputs": [
        {
          "output_type": "stream",
          "name": "stdout",
          "text": [
            "Mounted at /content/drive\n"
          ]
        }
      ]
    },
    {
      "cell_type": "markdown",
      "source": [
        "Reading the file for traing."
      ],
      "metadata": {
        "id": "gNx5eyb_dJSh"
      }
    },
    {
      "cell_type": "code",
      "source": [
        "path='/content/drive/MyDrive/insights/train.csv'\n",
        "df=pd.read_csv(path,sep = '|')\n",
        "df=df.rename(columns={'Sentence ':'Sentence',' Category' :'Category'})\n",
        "df.head()"
      ],
      "metadata": {
        "id": "6fDFUSjEIU__",
        "colab": {
          "base_uri": "https://localhost:8080/",
          "height": 206
        },
        "outputId": "efafbddb-0b0a-4115-d269-ff1778901f48"
      },
      "execution_count": 18,
      "outputs": [
        {
          "output_type": "execute_result",
          "data": {
            "text/plain": [
              "                                            Sentence  Category\n",
              "0  ﻿The Project Gutenberg eBook of Pride and Prej...         1\n",
              "1  This eBook is for the use of anyone anywhere i...         1\n",
              "2  most other parts of the world at no cost and w...         0\n",
              "3  whatsoever. You may copy it, give it away or r...         0\n",
              "4  of the Project Gutenberg License included with...         1"
            ],
            "text/html": [
              "\n",
              "  <div id=\"df-a3cc074c-ae78-485e-bbf0-0d689b97f0c7\">\n",
              "    <div class=\"colab-df-container\">\n",
              "      <div>\n",
              "<style scoped>\n",
              "    .dataframe tbody tr th:only-of-type {\n",
              "        vertical-align: middle;\n",
              "    }\n",
              "\n",
              "    .dataframe tbody tr th {\n",
              "        vertical-align: top;\n",
              "    }\n",
              "\n",
              "    .dataframe thead th {\n",
              "        text-align: right;\n",
              "    }\n",
              "</style>\n",
              "<table border=\"1\" class=\"dataframe\">\n",
              "  <thead>\n",
              "    <tr style=\"text-align: right;\">\n",
              "      <th></th>\n",
              "      <th>Sentence</th>\n",
              "      <th>Category</th>\n",
              "    </tr>\n",
              "  </thead>\n",
              "  <tbody>\n",
              "    <tr>\n",
              "      <th>0</th>\n",
              "      <td>﻿The Project Gutenberg eBook of Pride and Prej...</td>\n",
              "      <td>1</td>\n",
              "    </tr>\n",
              "    <tr>\n",
              "      <th>1</th>\n",
              "      <td>This eBook is for the use of anyone anywhere i...</td>\n",
              "      <td>1</td>\n",
              "    </tr>\n",
              "    <tr>\n",
              "      <th>2</th>\n",
              "      <td>most other parts of the world at no cost and w...</td>\n",
              "      <td>0</td>\n",
              "    </tr>\n",
              "    <tr>\n",
              "      <th>3</th>\n",
              "      <td>whatsoever. You may copy it, give it away or r...</td>\n",
              "      <td>0</td>\n",
              "    </tr>\n",
              "    <tr>\n",
              "      <th>4</th>\n",
              "      <td>of the Project Gutenberg License included with...</td>\n",
              "      <td>1</td>\n",
              "    </tr>\n",
              "  </tbody>\n",
              "</table>\n",
              "</div>\n",
              "      <button class=\"colab-df-convert\" onclick=\"convertToInteractive('df-a3cc074c-ae78-485e-bbf0-0d689b97f0c7')\"\n",
              "              title=\"Convert this dataframe to an interactive table.\"\n",
              "              style=\"display:none;\">\n",
              "        \n",
              "  <svg xmlns=\"http://www.w3.org/2000/svg\" height=\"24px\"viewBox=\"0 0 24 24\"\n",
              "       width=\"24px\">\n",
              "    <path d=\"M0 0h24v24H0V0z\" fill=\"none\"/>\n",
              "    <path d=\"M18.56 5.44l.94 2.06.94-2.06 2.06-.94-2.06-.94-.94-2.06-.94 2.06-2.06.94zm-11 1L8.5 8.5l.94-2.06 2.06-.94-2.06-.94L8.5 2.5l-.94 2.06-2.06.94zm10 10l.94 2.06.94-2.06 2.06-.94-2.06-.94-.94-2.06-.94 2.06-2.06.94z\"/><path d=\"M17.41 7.96l-1.37-1.37c-.4-.4-.92-.59-1.43-.59-.52 0-1.04.2-1.43.59L10.3 9.45l-7.72 7.72c-.78.78-.78 2.05 0 2.83L4 21.41c.39.39.9.59 1.41.59.51 0 1.02-.2 1.41-.59l7.78-7.78 2.81-2.81c.8-.78.8-2.07 0-2.86zM5.41 20L4 18.59l7.72-7.72 1.47 1.35L5.41 20z\"/>\n",
              "  </svg>\n",
              "      </button>\n",
              "      \n",
              "  <style>\n",
              "    .colab-df-container {\n",
              "      display:flex;\n",
              "      flex-wrap:wrap;\n",
              "      gap: 12px;\n",
              "    }\n",
              "\n",
              "    .colab-df-convert {\n",
              "      background-color: #E8F0FE;\n",
              "      border: none;\n",
              "      border-radius: 50%;\n",
              "      cursor: pointer;\n",
              "      display: none;\n",
              "      fill: #1967D2;\n",
              "      height: 32px;\n",
              "      padding: 0 0 0 0;\n",
              "      width: 32px;\n",
              "    }\n",
              "\n",
              "    .colab-df-convert:hover {\n",
              "      background-color: #E2EBFA;\n",
              "      box-shadow: 0px 1px 2px rgba(60, 64, 67, 0.3), 0px 1px 3px 1px rgba(60, 64, 67, 0.15);\n",
              "      fill: #174EA6;\n",
              "    }\n",
              "\n",
              "    [theme=dark] .colab-df-convert {\n",
              "      background-color: #3B4455;\n",
              "      fill: #D2E3FC;\n",
              "    }\n",
              "\n",
              "    [theme=dark] .colab-df-convert:hover {\n",
              "      background-color: #434B5C;\n",
              "      box-shadow: 0px 1px 3px 1px rgba(0, 0, 0, 0.15);\n",
              "      filter: drop-shadow(0px 1px 2px rgba(0, 0, 0, 0.3));\n",
              "      fill: #FFFFFF;\n",
              "    }\n",
              "  </style>\n",
              "\n",
              "      <script>\n",
              "        const buttonEl =\n",
              "          document.querySelector('#df-a3cc074c-ae78-485e-bbf0-0d689b97f0c7 button.colab-df-convert');\n",
              "        buttonEl.style.display =\n",
              "          google.colab.kernel.accessAllowed ? 'block' : 'none';\n",
              "\n",
              "        async function convertToInteractive(key) {\n",
              "          const element = document.querySelector('#df-a3cc074c-ae78-485e-bbf0-0d689b97f0c7');\n",
              "          const dataTable =\n",
              "            await google.colab.kernel.invokeFunction('convertToInteractive',\n",
              "                                                     [key], {});\n",
              "          if (!dataTable) return;\n",
              "\n",
              "          const docLinkHtml = 'Like what you see? Visit the ' +\n",
              "            '<a target=\"_blank\" href=https://colab.research.google.com/notebooks/data_table.ipynb>data table notebook</a>'\n",
              "            + ' to learn more about interactive tables.';\n",
              "          element.innerHTML = '';\n",
              "          dataTable['output_type'] = 'display_data';\n",
              "          await google.colab.output.renderOutput(dataTable, element);\n",
              "          const docLink = document.createElement('div');\n",
              "          docLink.innerHTML = docLinkHtml;\n",
              "          element.appendChild(docLink);\n",
              "        }\n",
              "      </script>\n",
              "    </div>\n",
              "  </div>\n",
              "  "
            ]
          },
          "metadata": {},
          "execution_count": 18
        }
      ]
    },
    {
      "cell_type": "code",
      "source": [
        "import nltk\n",
        "nltk.download('punkt')"
      ],
      "metadata": {
        "colab": {
          "base_uri": "https://localhost:8080/"
        },
        "id": "XaYY7ASPUa7Y",
        "outputId": "acc8a7c1-861e-4cdc-9b55-afffb18751e4"
      },
      "execution_count": 106,
      "outputs": [
        {
          "output_type": "stream",
          "name": "stdout",
          "text": [
            "[nltk_data] Downloading package punkt to /root/nltk_data...\n",
            "[nltk_data]   Unzipping tokenizers/punkt.zip.\n"
          ]
        },
        {
          "output_type": "execute_result",
          "data": {
            "text/plain": [
              "True"
            ]
          },
          "metadata": {},
          "execution_count": 106
        }
      ]
    },
    {
      "cell_type": "code",
      "source": [
        "from nltk.tokenize import sent_tokenize"
      ],
      "metadata": {
        "id": "ONL5Gx6LUAKf"
      },
      "execution_count": 107,
      "outputs": []
    },
    {
      "cell_type": "code",
      "source": [
        "path = '/content/drive/MyDrive/insights/test.txt'\n",
        "doc = open(path,'r').read()\n",
        "data={'Sentence':'Category'}\n",
        "sent=[]\n",
        "for i in doc.split('\\n'):\n",
        "  for j in sent_tokenize(i):\n",
        "    if(len(j.split())>3):\n",
        "      sent.append(j)"
      ],
      "metadata": {
        "id": "ujlaniI5LtmC"
      },
      "execution_count": 108,
      "outputs": []
    },
    {
      "cell_type": "code",
      "source": [
        "a=list(df['Sentence'])\n",
        "for i in sent:\n",
        "  a.append(i)"
      ],
      "metadata": {
        "colab": {
          "base_uri": "https://localhost:8080/"
        },
        "id": "4soC99-WMSZg",
        "outputId": "6e66305b-ed2f-4827-e03f-05e8c8bfa2ed"
      },
      "execution_count": 110,
      "outputs": [
        {
          "output_type": "execute_result",
          "data": {
            "text/plain": [
              "11516"
            ]
          },
          "metadata": {},
          "execution_count": 110
        }
      ]
    },
    {
      "cell_type": "markdown",
      "source": [
        "Converting sentences to array of Integers"
      ],
      "metadata": {
        "id": "-j9jTMuBdYoE"
      }
    },
    {
      "cell_type": "code",
      "source": [
        "tokens={}\n",
        "c=0\n",
        "w=[]\n",
        "arr=[]\n",
        "for i in a:\n",
        "  w=[]\n",
        "  for j in i.split():\n",
        "    if (j in tokens.keys()):\n",
        "      w.append(tokens[j])\n",
        "      continue\n",
        "    else:\n",
        "      tokens[j]=c\n",
        "      c+=1\n",
        "      w.append(tokens[j])\n",
        "  arr.append(w)"
      ],
      "metadata": {
        "id": "jgSzyn5vIufY"
      },
      "execution_count": 111,
      "outputs": []
    },
    {
      "cell_type": "code",
      "source": [
        "df['token_arr']=arr[:11393]"
      ],
      "metadata": {
        "id": "5aYRsv0oKzpo"
      },
      "execution_count": 112,
      "outputs": []
    },
    {
      "cell_type": "code",
      "source": [
        "df.head()"
      ],
      "metadata": {
        "colab": {
          "base_uri": "https://localhost:8080/",
          "height": 206
        },
        "id": "nKilRQp7CgSm",
        "outputId": "06b3fa24-18cd-4402-d97b-954dce511257"
      },
      "execution_count": 113,
      "outputs": [
        {
          "output_type": "execute_result",
          "data": {
            "text/plain": [
              "                                            Sentence  Category  \\\n",
              "0  ﻿The Project Gutenberg eBook of Pride and Prej...         1   \n",
              "1  This eBook is for the use of anyone anywhere i...         1   \n",
              "2  most other parts of the world at no cost and w...         0   \n",
              "3  whatsoever. You may copy it, give it away or r...         0   \n",
              "4  of the Project Gutenberg License included with...         1   \n",
              "\n",
              "                                           token_arr  \n",
              "0                 [0, 1, 2, 3, 4, 5, 6, 7, 8, 9, 10]  \n",
              "1  [11, 3, 12, 13, 14, 15, 4, 16, 17, 18, 14, 19,...  \n",
              "2  [21, 22, 23, 4, 14, 24, 25, 26, 27, 6, 28, 29,...  \n",
              "3  [31, 32, 33, 34, 35, 36, 37, 38, 39, 40, 37, 4...  \n",
              "4       [4, 14, 1, 2, 43, 44, 28, 45, 3, 39, 46, 25]  "
            ],
            "text/html": [
              "\n",
              "  <div id=\"df-8e5a3df2-cc81-44f5-88cc-691115357245\">\n",
              "    <div class=\"colab-df-container\">\n",
              "      <div>\n",
              "<style scoped>\n",
              "    .dataframe tbody tr th:only-of-type {\n",
              "        vertical-align: middle;\n",
              "    }\n",
              "\n",
              "    .dataframe tbody tr th {\n",
              "        vertical-align: top;\n",
              "    }\n",
              "\n",
              "    .dataframe thead th {\n",
              "        text-align: right;\n",
              "    }\n",
              "</style>\n",
              "<table border=\"1\" class=\"dataframe\">\n",
              "  <thead>\n",
              "    <tr style=\"text-align: right;\">\n",
              "      <th></th>\n",
              "      <th>Sentence</th>\n",
              "      <th>Category</th>\n",
              "      <th>token_arr</th>\n",
              "    </tr>\n",
              "  </thead>\n",
              "  <tbody>\n",
              "    <tr>\n",
              "      <th>0</th>\n",
              "      <td>﻿The Project Gutenberg eBook of Pride and Prej...</td>\n",
              "      <td>1</td>\n",
              "      <td>[0, 1, 2, 3, 4, 5, 6, 7, 8, 9, 10]</td>\n",
              "    </tr>\n",
              "    <tr>\n",
              "      <th>1</th>\n",
              "      <td>This eBook is for the use of anyone anywhere i...</td>\n",
              "      <td>1</td>\n",
              "      <td>[11, 3, 12, 13, 14, 15, 4, 16, 17, 18, 14, 19,...</td>\n",
              "    </tr>\n",
              "    <tr>\n",
              "      <th>2</th>\n",
              "      <td>most other parts of the world at no cost and w...</td>\n",
              "      <td>0</td>\n",
              "      <td>[21, 22, 23, 4, 14, 24, 25, 26, 27, 6, 28, 29,...</td>\n",
              "    </tr>\n",
              "    <tr>\n",
              "      <th>3</th>\n",
              "      <td>whatsoever. You may copy it, give it away or r...</td>\n",
              "      <td>0</td>\n",
              "      <td>[31, 32, 33, 34, 35, 36, 37, 38, 39, 40, 37, 4...</td>\n",
              "    </tr>\n",
              "    <tr>\n",
              "      <th>4</th>\n",
              "      <td>of the Project Gutenberg License included with...</td>\n",
              "      <td>1</td>\n",
              "      <td>[4, 14, 1, 2, 43, 44, 28, 45, 3, 39, 46, 25]</td>\n",
              "    </tr>\n",
              "  </tbody>\n",
              "</table>\n",
              "</div>\n",
              "      <button class=\"colab-df-convert\" onclick=\"convertToInteractive('df-8e5a3df2-cc81-44f5-88cc-691115357245')\"\n",
              "              title=\"Convert this dataframe to an interactive table.\"\n",
              "              style=\"display:none;\">\n",
              "        \n",
              "  <svg xmlns=\"http://www.w3.org/2000/svg\" height=\"24px\"viewBox=\"0 0 24 24\"\n",
              "       width=\"24px\">\n",
              "    <path d=\"M0 0h24v24H0V0z\" fill=\"none\"/>\n",
              "    <path d=\"M18.56 5.44l.94 2.06.94-2.06 2.06-.94-2.06-.94-.94-2.06-.94 2.06-2.06.94zm-11 1L8.5 8.5l.94-2.06 2.06-.94-2.06-.94L8.5 2.5l-.94 2.06-2.06.94zm10 10l.94 2.06.94-2.06 2.06-.94-2.06-.94-.94-2.06-.94 2.06-2.06.94z\"/><path d=\"M17.41 7.96l-1.37-1.37c-.4-.4-.92-.59-1.43-.59-.52 0-1.04.2-1.43.59L10.3 9.45l-7.72 7.72c-.78.78-.78 2.05 0 2.83L4 21.41c.39.39.9.59 1.41.59.51 0 1.02-.2 1.41-.59l7.78-7.78 2.81-2.81c.8-.78.8-2.07 0-2.86zM5.41 20L4 18.59l7.72-7.72 1.47 1.35L5.41 20z\"/>\n",
              "  </svg>\n",
              "      </button>\n",
              "      \n",
              "  <style>\n",
              "    .colab-df-container {\n",
              "      display:flex;\n",
              "      flex-wrap:wrap;\n",
              "      gap: 12px;\n",
              "    }\n",
              "\n",
              "    .colab-df-convert {\n",
              "      background-color: #E8F0FE;\n",
              "      border: none;\n",
              "      border-radius: 50%;\n",
              "      cursor: pointer;\n",
              "      display: none;\n",
              "      fill: #1967D2;\n",
              "      height: 32px;\n",
              "      padding: 0 0 0 0;\n",
              "      width: 32px;\n",
              "    }\n",
              "\n",
              "    .colab-df-convert:hover {\n",
              "      background-color: #E2EBFA;\n",
              "      box-shadow: 0px 1px 2px rgba(60, 64, 67, 0.3), 0px 1px 3px 1px rgba(60, 64, 67, 0.15);\n",
              "      fill: #174EA6;\n",
              "    }\n",
              "\n",
              "    [theme=dark] .colab-df-convert {\n",
              "      background-color: #3B4455;\n",
              "      fill: #D2E3FC;\n",
              "    }\n",
              "\n",
              "    [theme=dark] .colab-df-convert:hover {\n",
              "      background-color: #434B5C;\n",
              "      box-shadow: 0px 1px 3px 1px rgba(0, 0, 0, 0.15);\n",
              "      filter: drop-shadow(0px 1px 2px rgba(0, 0, 0, 0.3));\n",
              "      fill: #FFFFFF;\n",
              "    }\n",
              "  </style>\n",
              "\n",
              "      <script>\n",
              "        const buttonEl =\n",
              "          document.querySelector('#df-8e5a3df2-cc81-44f5-88cc-691115357245 button.colab-df-convert');\n",
              "        buttonEl.style.display =\n",
              "          google.colab.kernel.accessAllowed ? 'block' : 'none';\n",
              "\n",
              "        async function convertToInteractive(key) {\n",
              "          const element = document.querySelector('#df-8e5a3df2-cc81-44f5-88cc-691115357245');\n",
              "          const dataTable =\n",
              "            await google.colab.kernel.invokeFunction('convertToInteractive',\n",
              "                                                     [key], {});\n",
              "          if (!dataTable) return;\n",
              "\n",
              "          const docLinkHtml = 'Like what you see? Visit the ' +\n",
              "            '<a target=\"_blank\" href=https://colab.research.google.com/notebooks/data_table.ipynb>data table notebook</a>'\n",
              "            + ' to learn more about interactive tables.';\n",
              "          element.innerHTML = '';\n",
              "          dataTable['output_type'] = 'display_data';\n",
              "          await google.colab.output.renderOutput(dataTable, element);\n",
              "          const docLink = document.createElement('div');\n",
              "          docLink.innerHTML = docLinkHtml;\n",
              "          element.appendChild(docLink);\n",
              "        }\n",
              "      </script>\n",
              "    </div>\n",
              "  </div>\n",
              "  "
            ]
          },
          "metadata": {},
          "execution_count": 113
        }
      ]
    },
    {
      "cell_type": "code",
      "source": [
        "X=sequence.pad_sequences(df['token_arr'],maxlen=40)\n",
        "print('X shape:', X.shape)"
      ],
      "metadata": {
        "id": "jsT-O8HhK-Jj",
        "colab": {
          "base_uri": "https://localhost:8080/"
        },
        "outputId": "abbc377e-65c5-4a51-c3b6-7752a35c2f00"
      },
      "execution_count": 114,
      "outputs": [
        {
          "output_type": "stream",
          "name": "stdout",
          "text": [
            "X shape: (11393, 40)\n"
          ]
        }
      ]
    },
    {
      "cell_type": "markdown",
      "source": [
        "MODEL"
      ],
      "metadata": {
        "id": "0eYRXKzMdfjm"
      }
    },
    {
      "cell_type": "code",
      "source": [
        "model=Sequential()\n",
        "model.add(Embedding(len(tokens), 100))\n",
        "model.add(GRU(50,recurrent_activation = 'sigmoid',dropout=0.2,input_shape=X.shape[1:]))\n",
        "#model.add(GRU(50,recurrent_activation = 'relu',dropout=0.2))\n",
        "#model.add(GRU(50,recurrent_activation = 'relu',dropout=0.2))\n",
        "model.add(Dense(1,activation='sigmoid'))"
      ],
      "metadata": {
        "id": "VB-idY9XzJnv"
      },
      "execution_count": 125,
      "outputs": []
    },
    {
      "cell_type": "code",
      "source": [
        "model.summary()"
      ],
      "metadata": {
        "colab": {
          "base_uri": "https://localhost:8080/"
        },
        "id": "eVN1Wr59FcxM",
        "outputId": "42d85c0b-a19a-41ff-cea8-455b83297983"
      },
      "execution_count": 126,
      "outputs": [
        {
          "output_type": "stream",
          "name": "stdout",
          "text": [
            "Model: \"sequential_17\"\n",
            "_________________________________________________________________\n",
            " Layer (type)                Output Shape              Param #   \n",
            "=================================================================\n",
            " embedding_17 (Embedding)    (None, None, 100)         1359900   \n",
            "                                                                 \n",
            " gru_24 (GRU)                (None, 50)                22800     \n",
            "                                                                 \n",
            " dense_8 (Dense)             (None, 1)                 51        \n",
            "                                                                 \n",
            "=================================================================\n",
            "Total params: 1,382,751\n",
            "Trainable params: 1,382,751\n",
            "Non-trainable params: 0\n",
            "_________________________________________________________________\n"
          ]
        }
      ]
    },
    {
      "cell_type": "code",
      "source": [
        "model.compile(loss='binary_crossentropy',optimizer='adam',metrics=['accuracy'])"
      ],
      "metadata": {
        "id": "d4n0flqz7H9Z"
      },
      "execution_count": 127,
      "outputs": []
    },
    {
      "cell_type": "code",
      "source": [
        "model.fit(X,df['Category'],batch_size=100,epochs=10)"
      ],
      "metadata": {
        "colab": {
          "base_uri": "https://localhost:8080/"
        },
        "id": "FY0TY_0GIjEh",
        "outputId": "1505ad75-c3bc-45f4-d46d-2f185a946cf7"
      },
      "execution_count": 128,
      "outputs": [
        {
          "output_type": "stream",
          "name": "stdout",
          "text": [
            "Epoch 1/10\n",
            "114/114 [==============================] - 8s 53ms/step - loss: 0.5073 - accuracy: 0.7293\n",
            "Epoch 2/10\n",
            "114/114 [==============================] - 6s 53ms/step - loss: 0.1456 - accuracy: 0.9473\n",
            "Epoch 3/10\n",
            "114/114 [==============================] - 6s 53ms/step - loss: 0.0547 - accuracy: 0.9829\n",
            "Epoch 4/10\n",
            "114/114 [==============================] - 6s 53ms/step - loss: 0.0249 - accuracy: 0.9932\n",
            "Epoch 5/10\n",
            "114/114 [==============================] - 6s 53ms/step - loss: 0.0177 - accuracy: 0.9943\n",
            "Epoch 6/10\n",
            "114/114 [==============================] - 6s 53ms/step - loss: 0.0080 - accuracy: 0.9978\n",
            "Epoch 7/10\n",
            "114/114 [==============================] - 6s 53ms/step - loss: 0.0041 - accuracy: 0.9992\n",
            "Epoch 8/10\n",
            "114/114 [==============================] - 6s 53ms/step - loss: 0.0023 - accuracy: 0.9994\n",
            "Epoch 9/10\n",
            "114/114 [==============================] - 6s 53ms/step - loss: 0.0028 - accuracy: 0.9993\n",
            "Epoch 10/10\n",
            "114/114 [==============================] - 6s 53ms/step - loss: 0.0040 - accuracy: 0.9986\n"
          ]
        },
        {
          "output_type": "execute_result",
          "data": {
            "text/plain": [
              "<keras.callbacks.History at 0x7fadeea25d10>"
            ]
          },
          "metadata": {},
          "execution_count": 128
        }
      ]
    },
    {
      "cell_type": "code",
      "source": [
        "Y=sequence.pad_sequences(arr[11393:],25)\n",
        "Y.shape"
      ],
      "metadata": {
        "colab": {
          "base_uri": "https://localhost:8080/"
        },
        "id": "nWclHEwAKSbe",
        "outputId": "826917eb-c7a6-4d1f-cac4-13f7f1d5d665"
      },
      "execution_count": 129,
      "outputs": [
        {
          "output_type": "execute_result",
          "data": {
            "text/plain": [
              "(123, 25)"
            ]
          },
          "metadata": {},
          "execution_count": 129
        }
      ]
    },
    {
      "cell_type": "markdown",
      "source": [
        "Getting insights from Input"
      ],
      "metadata": {
        "id": "0XoQBy8-dkuC"
      }
    },
    {
      "cell_type": "code",
      "source": [
        "p=model.predict(Y)"
      ],
      "metadata": {
        "id": "6ru_1TqGPVaL"
      },
      "execution_count": 130,
      "outputs": []
    },
    {
      "cell_type": "code",
      "source": [
        "insights=[]\n",
        "for i in range(len(p)):\n",
        "  if (p[i]>0.5):\n",
        "    insights.append(sent[i])"
      ],
      "metadata": {
        "id": "ROX14Sw1Pm-r"
      },
      "execution_count": 131,
      "outputs": []
    }
  ]
}